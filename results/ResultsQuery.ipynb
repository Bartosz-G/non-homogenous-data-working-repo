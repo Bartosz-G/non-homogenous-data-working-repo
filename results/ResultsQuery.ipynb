{
 "cells": [
  {
   "cell_type": "code",
   "execution_count": 1,
   "metadata": {
    "collapsed": true,
    "pycharm": {
     "name": "#%%\n"
    }
   },
   "outputs": [],
   "source": [
    "import numpy as np\n",
    "import pandas as pd\n",
    "import requests\n",
    "import json\n",
    "import time"
   ]
  },
  {
   "cell_type": "code",
   "execution_count": 4,
   "outputs": [
    {
     "name": "stdout",
     "output_type": "stream",
     "text": [
      "API Key Loaded!\n"
     ]
    }
   ],
   "source": [
    "import os\n",
    "from TabularExperimentTrackerClient.ExperimentClient import ExperimentClient\n",
    "\n",
    "path =  '../../creds/'\n",
    "creds_orch_file = \"creds-orch.txt\"\n",
    "\n",
    "with open(os.path.join(path, creds_orch_file), \"r\") as myfile:\n",
    "    usr_name = myfile.readline().strip()  # Read the first line and strip any leading/trailing whitespace\n",
    "    tabExpTrackAPIKey = myfile.readline().strip()  # Read the second line and strip any leading/trailing whitespace\n",
    "\n",
    "print('API Key Loaded!')"
   ],
   "metadata": {
    "collapsed": false,
    "pycharm": {
     "name": "#%%\n"
    }
   }
  },
  {
   "cell_type": "code",
   "execution_count": 7,
   "outputs": [
    {
     "name": "stdout",
     "output_type": "stream",
     "text": [
      "========= 0 ========\n",
      "request time: 2.4080469608306885\n",
      "parse time: 0.043786048889160156\n",
      "length: 1000\n",
      "========= 1 ========\n",
      "request time: 2.536015033721924\n",
      "parse time: 0.19631481170654297\n",
      "length: 1000\n",
      "========= 2 ========\n",
      "request time: 2.181389093399048\n",
      "parse time: 0.043688058853149414\n",
      "length: 1000\n",
      "========= 3 ========\n",
      "request time: 2.383979082107544\n",
      "parse time: 0.01822495460510254\n",
      "length: 1000\n",
      "========= 4 ========\n",
      "request time: 2.1603291034698486\n",
      "parse time: 0.04429793357849121\n",
      "length: 1000\n",
      "========= 5 ========\n",
      "request time: 2.305868148803711\n",
      "parse time: 0.029631853103637695\n",
      "length: 1000\n",
      "========= 6 ========\n",
      "request time: 2.448884963989258\n",
      "parse time: 0.04821300506591797\n",
      "length: 1000\n",
      "========= 7 ========\n",
      "request time: 1.7836289405822754\n",
      "parse time: 0.017457246780395508\n",
      "length: 126\n",
      "========= 8 ========\n",
      "request time: 1.6168668270111084\n",
      "parse time: 0.0002741813659667969\n",
      "length: 0\n",
      "total length: 7126\n"
     ]
    }
   ],
   "source": [
    "from requests.exceptions import RequestsDependencyWarning\n",
    "\n",
    "expname = \"LCN_experiment_2\"\n",
    "\n",
    "slice_start = 0\n",
    "slice_size = 1000\n",
    "i = 0\n",
    "data = []\n",
    "while True:\n",
    "    url = \"\"\n",
    "    payload = json.dumps({\"experiment\": expname, \"slice_start\": slice_start, \"slice_end\": slice_start+slice_size})\n",
    "    headers = {'Name': usr_name,'Seceret': tabExpTrackAPIKey,'Content-Type': 'application/json'}\n",
    "    t1 = time.time()\n",
    "    resp_unparse = requests.request(\"POST\", url, headers=headers, data=payload)\n",
    "    t2=time.time()\n",
    "    resp = json.loads(resp_unparse.text)\n",
    "    t3=time.time()\n",
    "    print('========= {} ========'.format(i))\n",
    "    print('request time: {}'.format(t2-t1))\n",
    "    print('parse time: {}'.format(t3-t2))\n",
    "    print('length: {}'.format(len(resp)))\n",
    "    data.extend(resp)\n",
    "    if len(resp) == 0:\n",
    "        break\n",
    "    slice_start+=slice_size\n",
    "    i+=1\n",
    "\n",
    "print('total length: {}'.format(len(data)))"
   ],
   "metadata": {
    "collapsed": false,
    "pycharm": {
     "name": "#%%\n"
    }
   }
  },
  {
   "cell_type": "code",
   "execution_count": 12,
   "outputs": [
    {
     "data": {
      "text/plain": "{'_id': '650b4d4d412e46634033ea0e',\n 'metrics_per_epoch': [{'train_loss': 1219.076370716095, 'epoch': 1},\n  {'train_loss': 415.542289853096, 'epoch': 2},\n  {'train_loss': 368.49646723270416, 'epoch': 3},\n  {'train_loss': 336.4351638555527, 'epoch': 4},\n  {'train_loss': 341.36901116371155, 'epoch': 5},\n  {'train_loss': 335.69392907619476, 'epoch': 6},\n  {'train_loss': 328.47513139247894, 'epoch': 7},\n  {'train_loss': 326.9390068054199, 'epoch': 8},\n  {'train_loss': 337.7342299222946, 'epoch': 9},\n  {'train_loss': 323.3105516433716, 'epoch': 10},\n  {'train_loss': 321.0703556537628, 'epoch': 11},\n  {'train_loss': 321.2774603366852, 'epoch': 12},\n  {'train_loss': 320.62992763519287, 'epoch': 13},\n  {'train_loss': 321.01994371414185, 'epoch': 14},\n  {'train_loss': 321.34505212306976, 'epoch': 15},\n  {'train_loss': 320.64058953523636, 'epoch': 16},\n  {'train_loss': 320.45185828208923, 'epoch': 17},\n  {'train_loss': 320.3091918230057, 'epoch': 18},\n  {'train_loss': 321.3091276884079, 'epoch': 19},\n  {'train_loss': 320.09806299209595, 'epoch': 20},\n  {'train_loss': 319.77736723423004, 'epoch': 21},\n  {'train_loss': 319.633501291275, 'epoch': 22},\n  {'train_loss': 319.721693277359, 'epoch': 23},\n  {'train_loss': 319.6689756512642, 'epoch': 24},\n  {'train_loss': 319.6800889968872, 'epoch': 25},\n  {'train_loss': 319.6916333436966, 'epoch': 26},\n  {'train_loss': 319.75480008125305, 'epoch': 27},\n  {'train_loss': 319.6422040462494, 'epoch': 28},\n  {'train_loss': 319.75576293468475, 'epoch': 29},\n  {'train_loss': 319.6605763435364,\n   'train_metrics': {'RMSE': 17.762498484859094,\n    'r2_score': 0.012257814407348633,\n    'se_quant': {'0.01': 0.006023515947163105,\n     '0.025': 0.10011424124240875,\n     '0.05': 0.7920819520950317,\n     '0.1': 2.7047390937805176,\n     '0.2': 9.233721733093262,\n     '0.3': 22.119779586791992,\n     '0.4': 36.09949493408203,\n     '0.5': 56.42345428466797,\n     '0.6': 80.22718048095703,\n     '0.7': 114.01458740234375,\n     '0.8': 146.0586395263672,\n     '0.9': 194.0218505859375,\n     '0.95': 523.44091796875,\n     '0.975': 6947.76318359375,\n     '0.99': 6994.8310546875}},\n   'val_loss': 363.58734130859375,\n   'val_metrics': {'RMSE': 19.067966365310006,\n    'r2_score': 0.011194884777069092,\n    'se_quant': {'0.01': 0.010176809504628181,\n     '0.025': 0.09172488003969193,\n     '0.05': 0.872765839099884,\n     '0.1': 3.4278740882873535,\n     '0.2': 12.988737106323242,\n     '0.3': 24.38151741027832,\n     '0.4': 40.88021469116211,\n     '0.5': 59.86930847167969,\n     '0.6': 82.81885528564453,\n     '0.7': 118.6376724243164,\n     '0.8': 158.58517456054688,\n     '0.9': 204.075927734375,\n     '0.95': 604.3881225585938,\n     '0.975': 6956.64697265625,\n     '0.99': 7014.94580078125}},\n   'test_loss': 346.49041748046875,\n   'test_metrics': {'RMSE': 18.614253073396977,\n    'r2_score': 0.003317713737487793,\n    'se_quant': {'0.01': 0.007212435360997915,\n     '0.025': 0.23216770589351654,\n     '0.05': 0.8187628388404846,\n     '0.1': 3.5027077198028564,\n     '0.2': 10.20940113067627,\n     '0.3': 24.718708038330078,\n     '0.4': 37.605648040771484,\n     '0.5': 62.080543518066406,\n     '0.6': 84.75601959228516,\n     '0.7': 119.17701721191406,\n     '0.8': 158.73593139648438,\n     '0.9': 195.3987274169922,\n     '0.95': 607.1260986328125,\n     '0.975': 6955.9677734375,\n     '0.99': 7042.9638671875}},\n   'epoch': 30,\n   'epoch_time': 53.654587268829346}],\n 'experiment_id': '650b49f8f33d295e15896678',\n 'experiment_name': 'LCN_experiment_2',\n 'mtpair_index': 1,\n 'mtpair_model': 'LLN_reg',\n 'mtpair_task': '336-361072',\n 'is_completed': True,\n 'user_id': '64d3a7457658d6ec6db139d0',\n 'user_name': 'bart',\n 'hyp': {'depth': 9,\n  'seed': 42,\n  'drop_type': 'isDropConnect',\n  'p': 0,\n  'ensemble_n': 1,\n  'shrinkage': 1,\n  'back_n': 2,\n  'net_type': 'locally_linear',\n  'hidden_dim': 1,\n  'anneal': 'none',\n  'optimizer': 'AMSGrad',\n  'batch_size': 64,\n  'epochs': 30,\n  'lr': 0.17022999585199786,\n  'momentum': 0.9,\n  'no_cuda': False,\n  'lr_step_size': 10,\n  'gamma': 0.1,\n  'task': 'regression'},\n 'model': 'LLN_reg',\n 'task': '336-361072'}"
     },
     "execution_count": 12,
     "metadata": {},
     "output_type": "execute_result"
    }
   ],
   "source": [
    "data[3]"
   ],
   "metadata": {
    "collapsed": false,
    "pycharm": {
     "name": "#%%\n"
    }
   }
  },
  {
   "cell_type": "code",
   "execution_count": 15,
   "outputs": [],
   "source": [
    "df_model = [] # model\n",
    "df_dataset = [] # task\n",
    "df_hyperparameters = [] # hyp\n",
    "df_metrics = []\n",
    "\n",
    "\n",
    "\n",
    "\n",
    "for observation in data:\n",
    "    df_model.append(observation['model'])\n",
    "    df_dataset.append(observation['task'])\n",
    "    df_hyperparameters.append(observation['hyp'])\n",
    "    df_metrics.append(observation['metrics_per_epoch'][-1])\n",
    "else:\n",
    "    data_df = pd.DataFrame({\n",
    "        'model': df_model,\n",
    "        'dataset': df_dataset,\n",
    "        'hyperparameters': df_hyperparameters,\n",
    "        'metrics': df_metrics\n",
    "    })"
   ],
   "metadata": {
    "collapsed": false,
    "pycharm": {
     "name": "#%%\n"
    }
   }
  },
  {
   "cell_type": "code",
   "execution_count": 16,
   "outputs": [
    {
     "data": {
      "text/plain": "        model     dataset                                    hyperparameters   \n0     LCN_reg  336-361072  {'depth': 8, 'seed': 42, 'drop_type': 'isDropC...  \\\n1     LLN_reg  336-361072  {'depth': 9, 'seed': 42, 'drop_type': 'isDropC...   \n2     LCN_reg  336-361072  {'depth': 6, 'seed': 42, 'drop_type': 'isDropC...   \n3     LLN_reg  336-361072  {'depth': 9, 'seed': 42, 'drop_type': 'isDropC...   \n4     LLN_reg  336-361072  {'depth': 5, 'seed': 42, 'drop_type': 'isDropC...   \n...       ...         ...                                                ...   \n7121  LCN_cls  337-361277  {'depth': 2, 'seed': 42, 'drop_type': 'isDropC...   \n7122  LLN_cls  337-361277  {'depth': 2, 'seed': 42, 'drop_type': 'isDropC...   \n7123  LCN_cls  337-361277  {'depth': 9, 'seed': 42, 'drop_type': 'isDropC...   \n7124  LLN_cls  337-361277  {'depth': 5, 'seed': 42, 'drop_type': 'isDropC...   \n7125  LLN_cls  337-361277  {'depth': 8, 'seed': 42, 'drop_type': 'isDropC...   \n\n                                                metrics  \n0                      {'train_loss': None, 'epoch': 1}  \n1                      {'train_loss': None, 'epoch': 1}  \n2                      {'train_loss': None, 'epoch': 1}  \n3     {'train_loss': 319.6605763435364, 'train_metri...  \n4                      {'train_loss': None, 'epoch': 1}  \n...                                                 ...  \n7121  {'train_loss': 0.010059343594312669, 'train_me...  \n7122  {'train_loss': 0.005389809650182724, 'train_me...  \n7123  {'train_loss': 0.009550702953338623, 'train_me...  \n7124  {'train_loss': 0.005012368750572205, 'train_me...  \n7125  {'train_loss': 0.004822626054286957, 'train_me...  \n\n[7126 rows x 4 columns]",
      "text/html": "<div>\n<style scoped>\n    .dataframe tbody tr th:only-of-type {\n        vertical-align: middle;\n    }\n\n    .dataframe tbody tr th {\n        vertical-align: top;\n    }\n\n    .dataframe thead th {\n        text-align: right;\n    }\n</style>\n<table border=\"1\" class=\"dataframe\">\n  <thead>\n    <tr style=\"text-align: right;\">\n      <th></th>\n      <th>model</th>\n      <th>dataset</th>\n      <th>hyperparameters</th>\n      <th>metrics</th>\n    </tr>\n  </thead>\n  <tbody>\n    <tr>\n      <th>0</th>\n      <td>LCN_reg</td>\n      <td>336-361072</td>\n      <td>{'depth': 8, 'seed': 42, 'drop_type': 'isDropC...</td>\n      <td>{'train_loss': None, 'epoch': 1}</td>\n    </tr>\n    <tr>\n      <th>1</th>\n      <td>LLN_reg</td>\n      <td>336-361072</td>\n      <td>{'depth': 9, 'seed': 42, 'drop_type': 'isDropC...</td>\n      <td>{'train_loss': None, 'epoch': 1}</td>\n    </tr>\n    <tr>\n      <th>2</th>\n      <td>LCN_reg</td>\n      <td>336-361072</td>\n      <td>{'depth': 6, 'seed': 42, 'drop_type': 'isDropC...</td>\n      <td>{'train_loss': None, 'epoch': 1}</td>\n    </tr>\n    <tr>\n      <th>3</th>\n      <td>LLN_reg</td>\n      <td>336-361072</td>\n      <td>{'depth': 9, 'seed': 42, 'drop_type': 'isDropC...</td>\n      <td>{'train_loss': 319.6605763435364, 'train_metri...</td>\n    </tr>\n    <tr>\n      <th>4</th>\n      <td>LLN_reg</td>\n      <td>336-361072</td>\n      <td>{'depth': 5, 'seed': 42, 'drop_type': 'isDropC...</td>\n      <td>{'train_loss': None, 'epoch': 1}</td>\n    </tr>\n    <tr>\n      <th>...</th>\n      <td>...</td>\n      <td>...</td>\n      <td>...</td>\n      <td>...</td>\n    </tr>\n    <tr>\n      <th>7121</th>\n      <td>LCN_cls</td>\n      <td>337-361277</td>\n      <td>{'depth': 2, 'seed': 42, 'drop_type': 'isDropC...</td>\n      <td>{'train_loss': 0.010059343594312669, 'train_me...</td>\n    </tr>\n    <tr>\n      <th>7122</th>\n      <td>LLN_cls</td>\n      <td>337-361277</td>\n      <td>{'depth': 2, 'seed': 42, 'drop_type': 'isDropC...</td>\n      <td>{'train_loss': 0.005389809650182724, 'train_me...</td>\n    </tr>\n    <tr>\n      <th>7123</th>\n      <td>LCN_cls</td>\n      <td>337-361277</td>\n      <td>{'depth': 9, 'seed': 42, 'drop_type': 'isDropC...</td>\n      <td>{'train_loss': 0.009550702953338623, 'train_me...</td>\n    </tr>\n    <tr>\n      <th>7124</th>\n      <td>LLN_cls</td>\n      <td>337-361277</td>\n      <td>{'depth': 5, 'seed': 42, 'drop_type': 'isDropC...</td>\n      <td>{'train_loss': 0.005012368750572205, 'train_me...</td>\n    </tr>\n    <tr>\n      <th>7125</th>\n      <td>LLN_cls</td>\n      <td>337-361277</td>\n      <td>{'depth': 8, 'seed': 42, 'drop_type': 'isDropC...</td>\n      <td>{'train_loss': 0.004822626054286957, 'train_me...</td>\n    </tr>\n  </tbody>\n</table>\n<p>7126 rows × 4 columns</p>\n</div>"
     },
     "execution_count": 16,
     "metadata": {},
     "output_type": "execute_result"
    }
   ],
   "source": [
    "data_df"
   ],
   "metadata": {
    "collapsed": false,
    "pycharm": {
     "name": "#%%\n"
    }
   }
  },
  {
   "cell_type": "code",
   "execution_count": 17,
   "outputs": [],
   "source": [
    "data_df.to_csv('LcnTotalResults.csv', index=False)"
   ],
   "metadata": {
    "collapsed": false,
    "pycharm": {
     "name": "#%%\n"
    }
   }
  },
  {
   "cell_type": "code",
   "execution_count": null,
   "outputs": [],
   "source": [],
   "metadata": {
    "collapsed": false,
    "pycharm": {
     "name": "#%%\n"
    }
   }
  }
 ],
 "metadata": {
  "kernelspec": {
   "display_name": "Python 3",
   "language": "python",
   "name": "python3"
  },
  "language_info": {
   "codemirror_mode": {
    "name": "ipython",
    "version": 2
   },
   "file_extension": ".py",
   "mimetype": "text/x-python",
   "name": "python",
   "nbconvert_exporter": "python",
   "pygments_lexer": "ipython2",
   "version": "2.7.6"
  }
 },
 "nbformat": 4,
 "nbformat_minor": 0
}