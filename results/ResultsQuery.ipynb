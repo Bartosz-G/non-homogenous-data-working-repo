{
 "cells": [
  {
   "cell_type": "code",
   "execution_count": 1,
   "metadata": {
    "collapsed": true,
    "pycharm": {
     "name": "#%%\n"
    }
   },
   "outputs": [],
   "source": [
    "import numpy as np\n",
    "import pandas as pd\n",
    "import requests\n",
    "import json\n",
    "import time"
   ]
  },
  {
   "cell_type": "code",
   "execution_count": 4,
   "outputs": [
    {
     "name": "stdout",
     "output_type": "stream",
     "text": [
      "API Key Loaded!\n"
     ]
    }
   ],
   "source": [
    "import os\n",
    "from TabularExperimentTrackerClient.ExperimentClient import ExperimentClient\n",
    "\n",
    "path =  '../../creds/'\n",
    "creds_orch_file = \"creds-orch.txt\"\n",
    "\n",
    "with open(os.path.join(path, creds_orch_file), \"r\") as myfile:\n",
    "    usr_name = myfile.readline().strip()  # Read the first line and strip any leading/trailing whitespace\n",
    "    tabExpTrackAPIKey = myfile.readline().strip()  # Read the second line and strip any leading/trailing whitespace\n",
    "\n",
    "print('API Key Loaded!')"
   ],
   "metadata": {
    "collapsed": false,
    "pycharm": {
     "name": "#%%\n"
    }
   }
  },
  {
   "cell_type": "code",
   "execution_count": 25,
   "outputs": [
    {
     "data": {
      "text/plain": "{'expname': None,\n 'model_groups': None,\n 'data_groups': None,\n 'applications': None,\n 'run_id': None,\n 'stuck_task': '',\n 'prev_task': '',\n 'prev_X': None,\n 'prev_Y': None,\n 'prev_categorical_indicator': None,\n 'prev_attribute_names': None,\n 'orchname': 'bart',\n 'orchseceret': 'b8d206dce517c35e156cf7a5da01fc7b2fb095ae05028968ed6ba3be211df85f2dbc59b232bd53520206a1c73c65f14f9b266d9aeeadcc38e5a525c306e65628',\n 'openMLAPIKey': None,\n 'verbose': True,\n 'suites_ids': [336, 335, 337, 334],\n 'suites': [],\n 'taskID_suite': [],\n 'runs_per_pair': 60}"
     },
     "execution_count": 25,
     "metadata": {},
     "output_type": "execute_result"
    }
   ],
   "source": [
    "ex = ExperimentClient(verbose = True)\n",
    "ex.define_orch_cred(usr_name, tabExpTrackAPIKey)\n",
    "ex.__dict__"
   ],
   "metadata": {
    "collapsed": false,
    "pycharm": {
     "name": "#%%\n"
    }
   }
  },
  {
   "cell_type": "code",
   "execution_count": 19,
   "outputs": [
    {
     "name": "stdout",
     "output_type": "stream",
     "text": [
      "========= 0 ========\n",
      "request time: 3.4857840538024902\n",
      "parse time: 0.28663015365600586\n",
      "length: 1000\n",
      "========= 1 ========\n",
      "request time: 3.1562681198120117\n",
      "parse time: 0.07022595405578613\n",
      "length: 1000\n",
      "========= 2 ========\n",
      "request time: 3.2823617458343506\n",
      "parse time: 0.07469892501831055\n",
      "length: 1000\n",
      "========= 3 ========\n",
      "request time: 3.0441479682922363\n",
      "parse time: 0.07121109962463379\n",
      "length: 1000\n",
      "========= 4 ========\n",
      "request time: 3.205595016479492\n",
      "parse time: 0.06877899169921875\n",
      "length: 1000\n",
      "========= 5 ========\n",
      "request time: 2.9061279296875\n",
      "parse time: 0.05613589286804199\n",
      "length: 679\n",
      "========= 6 ========\n",
      "request time: 1.9454052448272705\n",
      "parse time: 0.0007276535034179688\n",
      "length: 0\n",
      "total length: 5679\n"
     ]
    }
   ],
   "source": [
    "from requests.exceptions import RequestsDependencyWarning\n",
    "\n",
    "expname = \"Mlp_experiment_1\"\n",
    "\n",
    "slice_start = 0\n",
    "slice_size = 1000\n",
    "i = 0\n",
    "data = []\n",
    "while True:\n",
    "    url = \"\"\n",
    "    payload = json.dumps({\"experiment\": expname, \"slice_start\": slice_start, \"slice_end\": slice_start+slice_size})\n",
    "    headers = {'Name': usr_name,'Seceret': tabExpTrackAPIKey,'Content-Type': 'application/json'}\n",
    "    t1 = time.time()\n",
    "    resp_unparse = requests.request(\"POST\", url, headers=headers, data=payload)\n",
    "    t2=time.time()\n",
    "    resp = json.loads(resp_unparse.text)\n",
    "    t3=time.time()\n",
    "    print('========= {} ========'.format(i))\n",
    "    print('request time: {}'.format(t2-t1))\n",
    "    print('parse time: {}'.format(t3-t2))\n",
    "    print('length: {}'.format(len(resp)))\n",
    "    data.extend(resp)\n",
    "    if len(resp) == 0:\n",
    "        break\n",
    "    slice_start+=slice_size\n",
    "    i+=1\n",
    "\n",
    "print('total length: {}'.format(len(data)))"
   ],
   "metadata": {
    "collapsed": false,
    "pycharm": {
     "name": "#%%\n"
    }
   }
  },
  {
   "cell_type": "code",
   "execution_count": 20,
   "outputs": [
    {
     "data": {
      "text/plain": "{'_id': '6510bb93b3011792be7edcb5',\n 'metrics_per_epoch': [{'train_loss': 3.52618175907135, 'epoch': 1},\n  {'train_loss': 1.2299053930282593, 'epoch': 2},\n  {'train_loss': 1.2299149214744567, 'epoch': 3},\n  {'train_loss': 1.2303392456054687, 'epoch': 4},\n  {'train_loss': 1.2297267402648926, 'epoch': 5},\n  {'train_loss': 1.229848224067688, 'epoch': 6},\n  {'train_loss': 1.2301496353149415, 'epoch': 7},\n  {'train_loss': 1.229746277999878, 'epoch': 8},\n  {'train_loss': 1.230065002822876, 'epoch': 9},\n  {'train_loss': 1.2294865085601807, 'epoch': 10},\n  {'train_loss': 1.2294963706970214, 'epoch': 11},\n  {'train_loss': 1.2299161407470702, 'epoch': 12},\n  {'train_loss': 1.2311680557250977, 'epoch': 13},\n  {'train_loss': 1.2300892017364502, 'epoch': 14},\n  {'train_loss': 1.2308018981933593, 'epoch': 15},\n  {'train_loss': 1.2294263952255249, 'epoch': 16},\n  {'train_loss': 1.2304931610107421, 'epoch': 17},\n  {'train_loss': 1.229853681564331, 'epoch': 18},\n  {'train_loss': 1.2295895538330077, 'epoch': 19},\n  {'train_loss': 1.2297195587158203, 'epoch': 20},\n  {'train_loss': 1.2292303430557252, 'epoch': 21},\n  {'train_loss': 1.2293434505462646, 'epoch': 22},\n  {'train_loss': 1.2293312587738037, 'epoch': 23},\n  {'train_loss': 1.2292969648361205, 'epoch': 24},\n  {'train_loss': 1.2292927896499635, 'epoch': 25},\n  {'train_loss': 1.2292939880371094, 'epoch': 26},\n  {'train_loss': 1.2292780792236329, 'epoch': 27},\n  {'train_loss': 1.2292967977523803, 'epoch': 28},\n  {'train_loss': 1.229362538909912, 'epoch': 29},\n  {'train_loss': 1.2293042003631591, 'epoch': 30},\n  {'train_loss': 1.2292965656280517, 'epoch': 31},\n  {'train_loss': 1.2293758255004883, 'epoch': 32},\n  {'train_loss': 1.2293766038894653, 'epoch': 33},\n  {'train_loss': 1.2293062828063965, 'epoch': 34},\n  {'train_loss': 1.2293828413009644, 'epoch': 35},\n  {'train_loss': 1.2292994688034058, 'epoch': 36},\n  {'train_loss': 1.2293214534759522, 'epoch': 37},\n  {'train_loss': 1.229283461380005, 'epoch': 38},\n  {'train_loss': 1.2292854861259461, 'epoch': 39},\n  {'train_loss': 1.2292342254638673, 'epoch': 40},\n  {'train_loss': 1.2292316217422485, 'epoch': 41},\n  {'train_loss': 1.2292328086853028, 'epoch': 42},\n  {'train_loss': 1.2292286365509033, 'epoch': 43},\n  {'train_loss': 1.2292281378746033, 'epoch': 44},\n  {'train_loss': 1.2292295671463012, 'epoch': 45},\n  {'train_loss': 1.2292293056488037, 'epoch': 46},\n  {'train_loss': 1.2292260330200195, 'epoch': 47},\n  {'train_loss': 1.2292245062828064, 'epoch': 48},\n  {'train_loss': 1.2292333818435668, 'epoch': 49},\n  {'train_loss': 1.2292241771697998, 'epoch': 50},\n  {'train_loss': 1.2292294668197632, 'epoch': 51},\n  {'train_loss': 1.2292348497390746, 'epoch': 52},\n  {'train_loss': 1.22922912273407, 'epoch': 53},\n  {'train_loss': 1.2292399309158326, 'epoch': 54},\n  {'train_loss': 1.2292267612457275, 'epoch': 55},\n  {'train_loss': 1.2292247611999512, 'epoch': 56},\n  {'train_loss': 1.229222155380249, 'epoch': 57},\n  {'train_loss': 1.2292354104995729, 'epoch': 58},\n  {'train_loss': 1.2292323656082154, 'epoch': 59},\n  {'train_loss': 1.2292179851531981,\n   'train_metrics': {'RMSE': 1.1087006239019404,\n    'r2_score': -1.1920928955078125e-07,\n    'se_quant': {'0.01': 0.0035492919851094484,\n     '0.025': 0.014696702361106873,\n     '0.05': 0.0448942705988884,\n     '0.1': 0.0885256826877594,\n     '0.2': 0.1917031854391098,\n     '0.3': 0.37255004048347473,\n     '0.4': 0.5707185864448547,\n     '0.5': 0.7658820152282715,\n     '0.6': 0.9365739226341248,\n     '0.7': 1.1837393045425415,\n     '0.8': 1.6266919374465942,\n     '0.9': 2.732147216796875,\n     '0.95': 4.568545341491699,\n     '0.975': 5.841965198516846,\n     '0.99': 9.053289413452148}},\n   'val_loss': 1.240580439567566,\n   'val_metrics': {'RMSE': 1.1138134671333284,\n    'r2_score': -0.0004609823226928711,\n    'se_quant': {'0.01': 0.0014448589645326138,\n     '0.025': 0.009951497428119183,\n     '0.05': 0.03864540532231331,\n     '0.1': 0.0806446447968483,\n     '0.2': 0.1809673309326172,\n     '0.3': 0.35421356558799744,\n     '0.4': 0.554653525352478,\n     '0.5': 0.7486573457717896,\n     '0.6': 0.9295225143432617,\n     '0.7': 1.1633856296539307,\n     '0.8': 1.752315640449524,\n     '0.9': 2.7619946002960205,\n     '0.95': 4.652068138122559,\n     '0.975': 5.935184478759766,\n     '0.99': 9.206122398376465}},\n   'test_loss': 1.2226868867874146,\n   'test_metrics': {'RMSE': 1.105751729271727,\n    'r2_score': -8.535385131835938e-05,\n    'se_quant': {'0.01': 0.0025819395668804646,\n     '0.025': 0.014178266748785973,\n     '0.05': 0.04932410642504692,\n     '0.1': 0.08611655980348587,\n     '0.2': 0.18704989552497864,\n     '0.3': 0.3695741295814514,\n     '0.4': 0.5520351529121399,\n     '0.5': 0.7476197481155396,\n     '0.6': 0.919706404209137,\n     '0.7': 1.1904069185256958,\n     '0.8': 1.6174384355545044,\n     '0.9': 2.774731397628784,\n     '0.95': 4.531397819519043,\n     '0.975': 5.819461822509766,\n     '0.99': 9.568596839904785}},\n   'epoch': 60,\n   'epoch_time': 418.668062210083}],\n 'experiment_id': '6510bb7bb3011792be7ed4b1',\n 'experiment_name': 'Mlp_experiment_1',\n 'mtpair_index': 57,\n 'mtpair_model': 'Mlp_sigm_cat',\n 'mtpair_task': '335-361104',\n 'is_completed': True,\n 'user_id': '64d3a7457658d6ec6db139d0',\n 'user_name': 'bart',\n 'hyp': {'depth': 8,\n  'seed': 42,\n  'regularize': None,\n  'embd_size': None,\n  'activation': 'sigmoid',\n  'hidden_dim': 32,\n  'optimizer': 'SGD',\n  'batch_size': 128,\n  'epochs': 60,\n  'lr': 0.000667802736687099,\n  'momentum': 0.9,\n  'no_cuda': False,\n  'lr_step_size': 20,\n  'gamma': 0.1},\n 'model': 'Mlp_sigm_cat',\n 'task': '335-361104'}"
     },
     "execution_count": 20,
     "metadata": {},
     "output_type": "execute_result"
    }
   ],
   "source": [
    "data[3]"
   ],
   "metadata": {
    "collapsed": false,
    "pycharm": {
     "name": "#%%\n"
    }
   }
  },
  {
   "cell_type": "code",
   "execution_count": 21,
   "outputs": [],
   "source": [
    "df_model = [] # model\n",
    "df_dataset = [] # task\n",
    "df_hyperparameters = [] # hyp\n",
    "df_metrics = []\n",
    "\n",
    "\n",
    "\n",
    "\n",
    "for observation in data:\n",
    "    df_model.append(observation['model'])\n",
    "    df_dataset.append(observation['task'])\n",
    "    df_hyperparameters.append(observation['hyp'])\n",
    "    df_metrics.append(observation['metrics_per_epoch'][-1])\n",
    "else:\n",
    "    mlp_df = pd.DataFrame({\n",
    "        'model': df_model,\n",
    "        'dataset': df_dataset,\n",
    "        'hyperparameters': df_hyperparameters,\n",
    "        'metrics': df_metrics\n",
    "    })"
   ],
   "metadata": {
    "collapsed": false,
    "pycharm": {
     "name": "#%%\n"
    }
   }
  },
  {
   "cell_type": "code",
   "execution_count": 1,
   "outputs": [
    {
     "ename": "NameError",
     "evalue": "name 'mlp_df' is not defined",
     "output_type": "error",
     "traceback": [
      "\u001B[0;31m---------------------------------------------------------------------------\u001B[0m",
      "\u001B[0;31mNameError\u001B[0m                                 Traceback (most recent call last)",
      "Cell \u001B[0;32mIn[1], line 1\u001B[0m\n\u001B[0;32m----> 1\u001B[0m \u001B[38;5;28mprint\u001B[39m(\u001B[43mmlp_df\u001B[49m)\n",
      "\u001B[0;31mNameError\u001B[0m: name 'mlp_df' is not defined"
     ]
    }
   ],
   "source": [
    "print(mlp_df)"
   ],
   "metadata": {
    "collapsed": false,
    "pycharm": {
     "name": "#%%\n"
    }
   }
  },
  {
   "cell_type": "code",
   "execution_count": 23,
   "outputs": [],
   "source": [
    "mlp_df.to_csv('MlpPartialResults.csv', index=False)"
   ],
   "metadata": {
    "collapsed": false,
    "pycharm": {
     "name": "#%%\n"
    }
   }
  },
  {
   "cell_type": "code",
   "execution_count": null,
   "outputs": [],
   "source": [],
   "metadata": {
    "collapsed": false,
    "pycharm": {
     "name": "#%%\n"
    }
   }
  }
 ],
 "metadata": {
  "kernelspec": {
   "display_name": "Python 3",
   "language": "python",
   "name": "python3"
  },
  "language_info": {
   "codemirror_mode": {
    "name": "ipython",
    "version": 2
   },
   "file_extension": ".py",
   "mimetype": "text/x-python",
   "name": "python",
   "nbconvert_exporter": "python",
   "pygments_lexer": "ipython2",
   "version": "2.7.6"
  }
 },
 "nbformat": 4,
 "nbformat_minor": 0
}