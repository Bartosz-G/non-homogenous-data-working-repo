{
 "cells": [
  {
   "cell_type": "code",
   "execution_count": 1,
   "metadata": {
    "collapsed": true,
    "pycharm": {
     "name": "#%%\n"
    }
   },
   "outputs": [],
   "source": [
    "import numpy as np\n",
    "import pandas as pd\n",
    "import requests\n",
    "import json\n",
    "import time"
   ]
  },
  {
   "cell_type": "code",
   "execution_count": 2,
   "outputs": [
    {
     "name": "stdout",
     "output_type": "stream",
     "text": [
      "API Key Loaded!\n"
     ]
    }
   ],
   "source": [
    "import os\n",
    "from TabularExperimentTrackerClient.ExperimentClient import ExperimentClient\n",
    "\n",
    "path =  '../../creds/'\n",
    "creds_orch_file = \"creds-orch.txt\"\n",
    "\n",
    "with open(os.path.join(path, creds_orch_file), \"r\") as myfile:\n",
    "    usr_name = myfile.readline().strip()  # Read the first line and strip any leading/trailing whitespace\n",
    "    tabExpTrackAPIKey = myfile.readline().strip()  # Read the second line and strip any leading/trailing whitespace\n",
    "\n",
    "print('API Key Loaded!')"
   ],
   "metadata": {
    "collapsed": false,
    "pycharm": {
     "name": "#%%\n"
    }
   }
  },
  {
   "cell_type": "code",
   "execution_count": 3,
   "outputs": [
    {
     "data": {
      "text/plain": "{'expname': None,\n 'model_groups': None,\n 'data_groups': None,\n 'applications': None,\n 'run_id': None,\n 'stuck_task': '',\n 'prev_task': '',\n 'prev_X': None,\n 'prev_Y': None,\n 'prev_categorical_indicator': None,\n 'prev_attribute_names': None,\n 'orchname': 'bart',\n 'orchseceret': 'b8d206dce517c35e156cf7a5da01fc7b2fb095ae05028968ed6ba3be211df85f2dbc59b232bd53520206a1c73c65f14f9b266d9aeeadcc38e5a525c306e65628',\n 'openMLAPIKey': None,\n 'verbose': True,\n 'suites_ids': [336, 335, 337, 334],\n 'suites': [],\n 'taskID_suite': [],\n 'runs_per_pair': 60}"
     },
     "execution_count": 3,
     "metadata": {},
     "output_type": "execute_result"
    }
   ],
   "source": [
    "ex = ExperimentClient(verbose = True)\n",
    "ex.define_orch_cred(usr_name, tabExpTrackAPIKey)\n",
    "ex.__dict__"
   ],
   "metadata": {
    "collapsed": false,
    "pycharm": {
     "name": "#%%\n"
    }
   }
  },
  {
   "cell_type": "code",
   "execution_count": 9,
   "outputs": [
    {
     "name": "stdout",
     "output_type": "stream",
     "text": [
      "========= 0 ========\n",
      "request time: 2.5504250526428223\n",
      "parse time: 0.028622150421142578\n",
      "length: 1000\n",
      "========= 1 ========\n",
      "request time: 1.649980068206787\n",
      "parse time: 0.011717081069946289\n",
      "length: 1000\n",
      "========= 2 ========\n",
      "request time: 1.9084820747375488\n",
      "parse time: 0.036570072174072266\n",
      "length: 1000\n",
      "========= 3 ========\n",
      "request time: 2.9910058975219727\n",
      "parse time: 0.038848161697387695\n",
      "length: 1000\n",
      "========= 4 ========\n",
      "request time: 1.8349800109863281\n",
      "parse time: 0.16246414184570312\n",
      "length: 1000\n",
      "========= 5 ========\n",
      "request time: 1.7958478927612305\n",
      "parse time: 0.014723777770996094\n",
      "length: 1000\n",
      "========= 6 ========\n",
      "request time: 2.0128228664398193\n",
      "parse time: 0.04418587684631348\n",
      "length: 1000\n",
      "========= 7 ========\n",
      "request time: 1.4594531059265137\n",
      "parse time: 0.015451908111572266\n",
      "length: 409\n",
      "========= 8 ========\n",
      "request time: 1.1514942646026611\n",
      "parse time: 8.20159912109375e-05\n",
      "length: 0\n",
      "total length: 7409\n"
     ]
    }
   ],
   "source": [
    "from requests.exceptions import RequestsDependencyWarning\n",
    "\n",
    "expname = \"08_multimodal7\"\n",
    "\n",
    "slice_start = 0\n",
    "slice_size = 1000\n",
    "i = 0\n",
    "data = []\n",
    "while True:\n",
    "    url = \"\"\n",
    "    payload = json.dumps({\"experiment\": expname, \"slice_start\": slice_start, \"slice_end\": slice_start+slice_size})\n",
    "    headers = {'Name': usr_name,'Seceret': tabExpTrackAPIKey,'Content-Type': 'application/json'}\n",
    "    t1 = time.time()\n",
    "    resp_unparse = requests.request(\"POST\", url, headers=headers, data=payload)\n",
    "    t2=time.time()\n",
    "    resp = json.loads(resp_unparse.text)\n",
    "    t3=time.time()\n",
    "    print('========= {} ========'.format(i))\n",
    "    print('request time: {}'.format(t2-t1))\n",
    "    print('parse time: {}'.format(t3-t2))\n",
    "    print('length: {}'.format(len(resp)))\n",
    "    data.extend(resp)\n",
    "    if len(resp) == 0:\n",
    "        break\n",
    "    slice_start+=slice_size\n",
    "    i+=1\n",
    "\n",
    "print('total length: {}'.format(len(data)))"
   ],
   "metadata": {
    "collapsed": false,
    "pycharm": {
     "name": "#%%\n"
    }
   }
  },
  {
   "cell_type": "code",
   "execution_count": 14,
   "outputs": [
    {
     "data": {
      "text/plain": "7409"
     },
     "execution_count": 14,
     "metadata": {},
     "output_type": "execute_result"
    }
   ],
   "source": [
    "len(data)"
   ],
   "metadata": {
    "collapsed": false,
    "pycharm": {
     "name": "#%%\n"
    }
   }
  },
  {
   "cell_type": "code",
   "execution_count": 15,
   "outputs": [],
   "source": [
    "df_model = [] # model\n",
    "df_dataset = [] # task\n",
    "df_hyperparameters = [] # hyp\n",
    "df_metrics = []\n",
    "\n",
    "\n",
    "for i, observation in enumerate(data):\n",
    "    df_model.append(observation['model'])\n",
    "    df_dataset.append(observation['task'])\n",
    "    df_hyperparameters.append(observation['hyp'])\n",
    "    try:\n",
    "        df_metrics.append(observation['metrics_per_epoch'][-1])\n",
    "    except:\n",
    "        df_metrics.append(None)\n",
    "else:\n",
    "    sklearn_df = pd.DataFrame({\n",
    "        'model': df_model,\n",
    "        'dataset': df_dataset,\n",
    "        'hyperparameters': df_hyperparameters,\n",
    "        'metrics': df_metrics\n",
    "    })"
   ],
   "metadata": {
    "collapsed": false,
    "pycharm": {
     "name": "#%%\n"
    }
   }
  },
  {
   "cell_type": "code",
   "execution_count": 16,
   "outputs": [
    {
     "name": "stdout",
     "output_type": "stream",
     "text": [
      "                      model     dataset   \n",
      "0      SK_histGradBoost_reg  336-361083  \\\n",
      "1       SK_decisionTree_reg  336-361083   \n",
      "2     rforestry_lintree_reg  336-361083   \n",
      "3              CatBoost_reg  336-361083   \n",
      "4                LGBM_class  334-361285   \n",
      "...                     ...         ...   \n",
      "7404           CatBoost_reg  335-361097   \n",
      "7405    SK_decisionTree_reg  335-361097   \n",
      "7406   SK_histGradBoost_reg  335-361097   \n",
      "7407     rforestry_tree_reg  335-361097   \n",
      "7408            XGBoost_reg  335-361097   \n",
      "\n",
      "                                        hyperparameters   \n",
      "0     {'learning_rate': 0.03461559161693327, 'max_de...  \\\n",
      "1     {'max_depth': None, 'criterion': 'squared_erro...   \n",
      "2     {'mtry_fraq': 0.37995388058270396, 'nodesize_s...   \n",
      "3     {'learning_rate': 0.7803083370088788, 'random_...   \n",
      "4     {'n_estimators': 92, 'learning_rate': 0.100198...   \n",
      "...                                                 ...   \n",
      "7404  {'learning_rate': 0.2959279444789412, 'random_...   \n",
      "7405  {'max_depth': None, 'criterion': 'absolute_err...   \n",
      "7406  {'learning_rate': 0.007086298981752511, 'max_d...   \n",
      "7407  {'mtry_fraq': 0.5200948220112399, 'nodesize_st...   \n",
      "7408  {'max_depth': 1, 'n_estimators': 157, 'min_chi...   \n",
      "\n",
      "                                                metrics  \n",
      "0     {'train_metrics': {'r2_score': 0.4505995423405...  \n",
      "1     {'train_metrics': {'r2_score': 0.4924746328463...  \n",
      "2     {'train_metrics': {'r2_score': 0.3889172136098...  \n",
      "3     {'train_metrics': {'r2_score': 0.4895379216450...  \n",
      "4     {'train_metrics': {'accuracy_score': 0.776, 'c...  \n",
      "...                                                 ...  \n",
      "7404  {'train_metrics': {'r2_score': 0.8832789582990...  \n",
      "7405  {'train_metrics': {'r2_score': 0.4774197663306...  \n",
      "7406  {'train_metrics': {'r2_score': 0.2680448956451...  \n",
      "7407  {'train_metrics': {'r2_score': 0.6078392374963...  \n",
      "7408  {'train_metrics': {'r2_score': 0.5346974388339...  \n",
      "\n",
      "[7409 rows x 4 columns]\n"
     ]
    }
   ],
   "source": [
    "print(sklearn_df)"
   ],
   "metadata": {
    "collapsed": false,
    "pycharm": {
     "name": "#%%\n"
    }
   }
  },
  {
   "cell_type": "code",
   "execution_count": 17,
   "outputs": [],
   "source": [
    "sklearn_df.to_csv('MultiModalResults.csv', index=False)"
   ],
   "metadata": {
    "collapsed": false,
    "pycharm": {
     "name": "#%%\n"
    }
   }
  },
  {
   "cell_type": "code",
   "execution_count": null,
   "outputs": [],
   "source": [],
   "metadata": {
    "collapsed": false,
    "pycharm": {
     "name": "#%%\n"
    }
   }
  }
 ],
 "metadata": {
  "kernelspec": {
   "display_name": "Python 3",
   "language": "python",
   "name": "python3"
  },
  "language_info": {
   "codemirror_mode": {
    "name": "ipython",
    "version": 2
   },
   "file_extension": ".py",
   "mimetype": "text/x-python",
   "name": "python",
   "nbconvert_exporter": "python",
   "pygments_lexer": "ipython2",
   "version": "2.7.6"
  }
 },
 "nbformat": 4,
 "nbformat_minor": 0
}