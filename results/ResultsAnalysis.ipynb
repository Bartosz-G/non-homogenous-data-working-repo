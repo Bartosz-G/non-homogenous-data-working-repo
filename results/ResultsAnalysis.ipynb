{
 "cells": [
  {
   "cell_type": "code",
   "execution_count": 8,
   "outputs": [],
   "source": [
    "import numpy as np\n",
    "import pandas as pd\n",
    "import os\n",
    "\n",
    "from results_processing import get_groups, get_dataset, flatten_results"
   ],
   "metadata": {
    "collapsed": false,
    "pycharm": {
     "name": "#%%\n"
    }
   }
  },
  {
   "cell_type": "markdown",
   "source": [
    "# 1. Data post-processing"
   ],
   "metadata": {
    "collapsed": false,
    "pycharm": {
     "name": "#%% md\n"
    }
   }
  },
  {
   "cell_type": "code",
   "execution_count": 6,
   "outputs": [],
   "source": [
    "lcn_data = pd.read_csv('LcnTotalResults.csv')\n",
    "mlp_data = pd.read_csv('MlpPartialResults.csv')\n",
    "multi_data = pd.read_csv('MultiModalResults.csv')\n",
    "\n",
    "data_groups = get_groups()"
   ],
   "metadata": {
    "collapsed": false,
    "pycharm": {
     "name": "#%%\n"
    }
   }
  },
  {
   "cell_type": "code",
   "execution_count": 7,
   "outputs": [],
   "source": [
    "regression_cat_groups = data_groups['opml_reg_numcat_group']\n",
    "regression_num_groups = data_groups['opml_reg_purnum_group']\n",
    "classification_cat_groups = data_groups['opml_class_numcat_group']\n",
    "classification_num_groups = data_groups['opml_class_purnum_group']\n",
    "\n",
    "\n",
    "regression_groups = regression_cat_groups + regression_num_groups\n",
    "classification_groups = classification_cat_groups + classification_cat_groups"
   ],
   "metadata": {
    "collapsed": false,
    "pycharm": {
     "name": "#%%\n"
    }
   }
  },
  {
   "cell_type": "code",
   "execution_count": 19,
   "outputs": [],
   "source": [
    "lcn_reg = get_dataset(lcn_data, regression_groups)\n",
    "mlp_reg = get_dataset(mlp_data, regression_groups)\n",
    "multi_reg = get_dataset(multi_data, regression_groups)\n",
    "\n",
    "lcn_cls = get_dataset(lcn_data, classification_groups)\n",
    "mlp_cls = get_dataset(mlp_data, classification_groups)\n",
    "multi_cls = get_dataset(multi_data, classification_groups)\n",
    "\n",
    "reg_datasets = pd.concat([lcn_reg, mlp_reg, multi_reg], ignore_index=True)\n",
    "cls_datasets = pd.concat([lcn_cls, mlp_cls, multi_cls], ignore_index=True)"
   ],
   "metadata": {
    "collapsed": false,
    "pycharm": {
     "name": "#%%\n"
    }
   }
  },
  {
   "cell_type": "code",
   "execution_count": null,
   "outputs": [],
   "source": [],
   "metadata": {
    "collapsed": false,
    "pycharm": {
     "name": "#%%\n"
    }
   }
  }
 ],
 "metadata": {
  "kernelspec": {
   "display_name": "Python 3",
   "language": "python",
   "name": "python3"
  },
  "language_info": {
   "codemirror_mode": {
    "name": "ipython",
    "version": 2
   },
   "file_extension": ".py",
   "mimetype": "text/x-python",
   "name": "python",
   "nbconvert_exporter": "python",
   "pygments_lexer": "ipython2",
   "version": "2.7.6"
  }
 },
 "nbformat": 4,
 "nbformat_minor": 0
}