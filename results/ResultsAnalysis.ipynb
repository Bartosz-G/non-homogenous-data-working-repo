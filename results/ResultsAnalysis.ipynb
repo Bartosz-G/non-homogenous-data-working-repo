{
 "cells": [
  {
   "cell_type": "code",
   "execution_count": 15,
   "outputs": [],
   "source": [
    "import numpy as np\n",
    "import pandas as pd\n",
    "import os\n",
    "from typing import List, Optional\n",
    "import ast\n",
    "\n",
    "from results_processing import get_groups, get_dataset, flatten_results"
   ],
   "metadata": {
    "collapsed": false,
    "pycharm": {
     "name": "#%%\n"
    }
   }
  },
  {
   "cell_type": "markdown",
   "source": [
    "# 1. Data post-processing"
   ],
   "metadata": {
    "collapsed": false,
    "pycharm": {
     "name": "#%% md\n"
    }
   }
  },
  {
   "cell_type": "code",
   "execution_count": 2,
   "outputs": [],
   "source": [
    "lcn_data = pd.read_csv('LcnTotalResults.csv')\n",
    "mlp_data = pd.read_csv('MlpPartialResults.csv')\n",
    "multi_data = pd.read_csv('MultiModalResults.csv')\n",
    "\n",
    "data_groups = get_groups()"
   ],
   "metadata": {
    "collapsed": false,
    "pycharm": {
     "name": "#%%\n"
    }
   }
  },
  {
   "cell_type": "code",
   "execution_count": 3,
   "outputs": [],
   "source": [
    "regression_cat_groups = data_groups['opml_reg_numcat_group']\n",
    "regression_num_groups = data_groups['opml_reg_purnum_group']\n",
    "classification_cat_groups = data_groups['opml_class_numcat_group']\n",
    "classification_num_groups = data_groups['opml_class_purnum_group']\n",
    "\n",
    "\n",
    "regression_groups = regression_cat_groups + regression_num_groups\n",
    "classification_groups = classification_cat_groups + classification_cat_groups"
   ],
   "metadata": {
    "collapsed": false,
    "pycharm": {
     "name": "#%%\n"
    }
   }
  },
  {
   "cell_type": "code",
   "execution_count": 4,
   "outputs": [],
   "source": [
    "lcn_reg = get_dataset(lcn_data, regression_groups)\n",
    "mlp_reg = get_dataset(mlp_data, regression_groups)\n",
    "multi_reg = get_dataset(multi_data, regression_groups)\n",
    "\n",
    "lcn_cls = get_dataset(lcn_data, classification_groups)\n",
    "mlp_cls = get_dataset(mlp_data, classification_groups)\n",
    "multi_cls = get_dataset(multi_data, classification_groups)\n",
    "\n",
    "reg_datasets = pd.concat([lcn_reg, mlp_reg, multi_reg], ignore_index=True)\n",
    "cls_datasets = pd.concat([lcn_cls, mlp_cls, multi_cls], ignore_index=True)"
   ],
   "metadata": {
    "collapsed": false,
    "pycharm": {
     "name": "#%%\n"
    }
   }
  },
  {
   "cell_type": "code",
   "execution_count": 20,
   "outputs": [],
   "source": [],
   "metadata": {
    "collapsed": false,
    "pycharm": {
     "name": "#%%\n"
    }
   }
  },
  {
   "cell_type": "code",
   "execution_count": 21,
   "outputs": [],
   "source": [
    "reg_results = flatten_results(reg_datasets, ['metrics'])\n",
    "cls_results = flatten_results(cls_datasets, ['metrics'])"
   ],
   "metadata": {
    "collapsed": false,
    "pycharm": {
     "name": "#%%\n"
    }
   }
  },
  {
   "cell_type": "code",
   "execution_count": 22,
   "outputs": [
    {
     "data": {
      "text/plain": "Index(['dataset', 'hyperparameters', 'model', 'train_loss', 'epoch',\n       'val_loss', 'test_loss', 'epoch_time', 'train_metrics.RMSE',\n       'train_metrics.r2_score', 'train_metrics.se_quant', 'val_metrics.RMSE',\n       'val_metrics.r2_score', 'val_metrics.se_quant', 'test_metrics.RMSE',\n       'test_metrics.r2_score', 'test_metrics.se_quant',\n       'validate_metrics.r2_score', 'validate_metrics.RMSE',\n       'validate_metrics.se_quant'],\n      dtype='object')"
     },
     "execution_count": 22,
     "metadata": {},
     "output_type": "execute_result"
    }
   ],
   "source": [
    "reg_results.columns"
   ],
   "metadata": {
    "collapsed": false,
    "pycharm": {
     "name": "#%%\n"
    }
   }
  },
  {
   "cell_type": "code",
   "execution_count": 23,
   "outputs": [
    {
     "data": {
      "text/plain": "Index(['dataset', 'hyperparameters', 'model', 'train_loss', 'val_loss',\n       'test_loss', 'epoch', 'epoch_time', 'train_metrics.accuracy_score',\n       'train_metrics.roc_auc_score', 'train_metrics.confusion_matrix',\n       'val_metrics.accuracy_score', 'val_metrics.roc_auc_score',\n       'val_metrics.confusion_matrix', 'test_metrics.accuracy_score',\n       'test_metrics.roc_auc_score', 'test_metrics.confusion_matrix',\n       'validate_metrics.accuracy_score', 'validate_metrics.confusion_matrix',\n       'validate_metrics.roc_auc_score'],\n      dtype='object')"
     },
     "execution_count": 23,
     "metadata": {},
     "output_type": "execute_result"
    }
   ],
   "source": [
    "cls_results.columns"
   ],
   "metadata": {
    "collapsed": false,
    "pycharm": {
     "name": "#%%\n"
    }
   }
  },
  {
   "cell_type": "code",
   "execution_count": null,
   "outputs": [],
   "source": [],
   "metadata": {
    "collapsed": false,
    "pycharm": {
     "name": "#%%\n"
    }
   }
  }
 ],
 "metadata": {
  "kernelspec": {
   "display_name": "Python 3",
   "language": "python",
   "name": "python3"
  },
  "language_info": {
   "codemirror_mode": {
    "name": "ipython",
    "version": 2
   },
   "file_extension": ".py",
   "mimetype": "text/x-python",
   "name": "python",
   "nbconvert_exporter": "python",
   "pygments_lexer": "ipython2",
   "version": "2.7.6"
  }
 },
 "nbformat": 4,
 "nbformat_minor": 0
}